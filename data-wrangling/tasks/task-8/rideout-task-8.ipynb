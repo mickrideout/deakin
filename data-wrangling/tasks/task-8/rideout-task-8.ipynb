{
 "cells": [
  {
   "cell_type": "markdown",
   "metadata": {},
   "source": [
    "# Evaluating Algorithms for Imbalanced Data"
   ]
  },
  {
   "cell_type": "markdown",
   "metadata": {},
   "source": [
    "* Student Name: Michael Rideout\n",
    "* Student Number: 225065259\n",
    "* E-mail: s225065259@deakin.edu.au\n",
    "* Student Course Code: SIT731\n",
    "---"
   ]
  },
  {
   "cell_type": "markdown",
   "metadata": {},
   "source": [
    "# Introduction"
   ]
  },
  {
   "cell_type": "code",
   "execution_count": 19,
   "metadata": {},
   "outputs": [
    {
     "name": "stdout",
     "output_type": "stream",
     "text": [
      "Requirement already satisfied: sdv in /home/mick/bin/anaconda/envs/scratch/lib/python3.12/site-packages (1.17.3)\n",
      "Requirement already satisfied: boto3<2.0.0,>=1.28 in /home/mick/bin/anaconda/envs/scratch/lib/python3.12/site-packages (from sdv) (1.36.1)\n",
      "Requirement already satisfied: botocore<2.0.0,>=1.31 in /home/mick/bin/anaconda/envs/scratch/lib/python3.12/site-packages (from sdv) (1.36.1)\n",
      "Requirement already satisfied: cloudpickle>=2.1.0 in /home/mick/bin/anaconda/envs/scratch/lib/python3.12/site-packages (from sdv) (3.0.0)\n",
      "Requirement already satisfied: graphviz>=0.13.2 in /home/mick/bin/anaconda/envs/scratch/lib/python3.12/site-packages (from sdv) (0.20.3)\n",
      "Requirement already satisfied: numpy>=1.26.0 in /home/mick/bin/anaconda/envs/scratch/lib/python3.12/site-packages (from sdv) (1.26.4)\n",
      "Requirement already satisfied: pandas>=2.1.1 in /home/mick/bin/anaconda/envs/scratch/lib/python3.12/site-packages (from sdv) (2.2.2)\n",
      "Requirement already satisfied: tqdm>=4.29 in /home/mick/bin/anaconda/envs/scratch/lib/python3.12/site-packages (from sdv) (4.66.4)\n",
      "Requirement already satisfied: copulas>=0.12.0 in /home/mick/bin/anaconda/envs/scratch/lib/python3.12/site-packages (from sdv) (0.12.1)\n",
      "Requirement already satisfied: ctgan>=0.10.2 in /home/mick/bin/anaconda/envs/scratch/lib/python3.12/site-packages (from sdv) (0.10.2)\n",
      "Requirement already satisfied: deepecho>=0.6.1 in /home/mick/bin/anaconda/envs/scratch/lib/python3.12/site-packages (from sdv) (0.6.1)\n",
      "Requirement already satisfied: rdt>=1.13.2.dev0 in /home/mick/bin/anaconda/envs/scratch/lib/python3.12/site-packages (from sdv) (1.13.2)\n",
      "Requirement already satisfied: sdmetrics>=0.17.0 in /home/mick/bin/anaconda/envs/scratch/lib/python3.12/site-packages (from sdv) (0.18.0)\n",
      "Requirement already satisfied: platformdirs>=4.0 in /home/mick/bin/anaconda/envs/scratch/lib/python3.12/site-packages (from sdv) (4.2.2)\n",
      "Requirement already satisfied: pyyaml>=6.0.1 in /home/mick/bin/anaconda/envs/scratch/lib/python3.12/site-packages (from sdv) (6.0.1)\n",
      "Requirement already satisfied: jmespath<2.0.0,>=0.7.1 in /home/mick/bin/anaconda/envs/scratch/lib/python3.12/site-packages (from boto3<2.0.0,>=1.28->sdv) (1.0.1)\n",
      "Requirement already satisfied: s3transfer<0.12.0,>=0.11.0 in /home/mick/bin/anaconda/envs/scratch/lib/python3.12/site-packages (from boto3<2.0.0,>=1.28->sdv) (0.11.1)\n",
      "Requirement already satisfied: python-dateutil<3.0.0,>=2.1 in /home/mick/bin/anaconda/envs/scratch/lib/python3.12/site-packages (from botocore<2.0.0,>=1.31->sdv) (2.9.0.post0)\n",
      "Requirement already satisfied: urllib3!=2.2.0,<3,>=1.25.4 in /home/mick/bin/anaconda/envs/scratch/lib/python3.12/site-packages (from botocore<2.0.0,>=1.31->sdv) (2.2.2)\n",
      "Requirement already satisfied: plotly>=5.10.0 in /home/mick/bin/anaconda/envs/scratch/lib/python3.12/site-packages (from copulas>=0.12.0->sdv) (5.24.1)\n",
      "Requirement already satisfied: scipy>=1.12.0 in /home/mick/bin/anaconda/envs/scratch/lib/python3.12/site-packages (from copulas>=0.12.0->sdv) (1.14.1)\n",
      "Requirement already satisfied: torch>=2.2.0 in /home/mick/bin/anaconda/envs/scratch/lib/python3.12/site-packages (from ctgan>=0.10.2->sdv) (2.3.1)\n",
      "Requirement already satisfied: pytz>=2020.1 in /home/mick/bin/anaconda/envs/scratch/lib/python3.12/site-packages (from pandas>=2.1.1->sdv) (2024.1)\n",
      "Requirement already satisfied: tzdata>=2022.7 in /home/mick/bin/anaconda/envs/scratch/lib/python3.12/site-packages (from pandas>=2.1.1->sdv) (2024.1)\n",
      "Requirement already satisfied: scikit-learn>=1.3.1 in /home/mick/bin/anaconda/envs/scratch/lib/python3.12/site-packages (from rdt>=1.13.2.dev0->sdv) (1.5.1)\n",
      "Requirement already satisfied: Faker>=17 in /home/mick/bin/anaconda/envs/scratch/lib/python3.12/site-packages (from rdt>=1.13.2.dev0->sdv) (33.3.1)\n",
      "Requirement already satisfied: typing-extensions in /home/mick/bin/anaconda/envs/scratch/lib/python3.12/site-packages (from Faker>=17->rdt>=1.13.2.dev0->sdv) (4.12.2)\n",
      "Requirement already satisfied: tenacity>=6.2.0 in /home/mick/bin/anaconda/envs/scratch/lib/python3.12/site-packages (from plotly>=5.10.0->copulas>=0.12.0->sdv) (9.0.0)\n",
      "Requirement already satisfied: packaging in /home/mick/bin/anaconda/envs/scratch/lib/python3.12/site-packages (from plotly>=5.10.0->copulas>=0.12.0->sdv) (24.1)\n",
      "Requirement already satisfied: six>=1.5 in /home/mick/bin/anaconda/envs/scratch/lib/python3.12/site-packages (from python-dateutil<3.0.0,>=2.1->botocore<2.0.0,>=1.31->sdv) (1.16.0)\n",
      "Requirement already satisfied: joblib>=1.2.0 in /home/mick/bin/anaconda/envs/scratch/lib/python3.12/site-packages (from scikit-learn>=1.3.1->rdt>=1.13.2.dev0->sdv) (1.4.2)\n",
      "Requirement already satisfied: threadpoolctl>=3.1.0 in /home/mick/bin/anaconda/envs/scratch/lib/python3.12/site-packages (from scikit-learn>=1.3.1->rdt>=1.13.2.dev0->sdv) (3.5.0)\n",
      "Requirement already satisfied: filelock in /home/mick/bin/anaconda/envs/scratch/lib/python3.12/site-packages (from torch>=2.2.0->ctgan>=0.10.2->sdv) (3.15.4)\n",
      "Requirement already satisfied: sympy in /home/mick/bin/anaconda/envs/scratch/lib/python3.12/site-packages (from torch>=2.2.0->ctgan>=0.10.2->sdv) (1.12.1)\n",
      "Requirement already satisfied: networkx in /home/mick/bin/anaconda/envs/scratch/lib/python3.12/site-packages (from torch>=2.2.0->ctgan>=0.10.2->sdv) (3.3)\n",
      "Requirement already satisfied: jinja2 in /home/mick/bin/anaconda/envs/scratch/lib/python3.12/site-packages (from torch>=2.2.0->ctgan>=0.10.2->sdv) (3.1.4)\n",
      "Requirement already satisfied: fsspec in /home/mick/bin/anaconda/envs/scratch/lib/python3.12/site-packages (from torch>=2.2.0->ctgan>=0.10.2->sdv) (2024.6.1)\n",
      "Requirement already satisfied: nvidia-cuda-nvrtc-cu12==12.1.105 in /home/mick/bin/anaconda/envs/scratch/lib/python3.12/site-packages (from torch>=2.2.0->ctgan>=0.10.2->sdv) (12.1.105)\n",
      "Requirement already satisfied: nvidia-cuda-runtime-cu12==12.1.105 in /home/mick/bin/anaconda/envs/scratch/lib/python3.12/site-packages (from torch>=2.2.0->ctgan>=0.10.2->sdv) (12.1.105)\n",
      "Requirement already satisfied: nvidia-cuda-cupti-cu12==12.1.105 in /home/mick/bin/anaconda/envs/scratch/lib/python3.12/site-packages (from torch>=2.2.0->ctgan>=0.10.2->sdv) (12.1.105)\n",
      "Requirement already satisfied: nvidia-cudnn-cu12==8.9.2.26 in /home/mick/bin/anaconda/envs/scratch/lib/python3.12/site-packages (from torch>=2.2.0->ctgan>=0.10.2->sdv) (8.9.2.26)\n",
      "Requirement already satisfied: nvidia-cublas-cu12==12.1.3.1 in /home/mick/bin/anaconda/envs/scratch/lib/python3.12/site-packages (from torch>=2.2.0->ctgan>=0.10.2->sdv) (12.1.3.1)\n",
      "Requirement already satisfied: nvidia-cufft-cu12==11.0.2.54 in /home/mick/bin/anaconda/envs/scratch/lib/python3.12/site-packages (from torch>=2.2.0->ctgan>=0.10.2->sdv) (11.0.2.54)\n",
      "Requirement already satisfied: nvidia-curand-cu12==10.3.2.106 in /home/mick/bin/anaconda/envs/scratch/lib/python3.12/site-packages (from torch>=2.2.0->ctgan>=0.10.2->sdv) (10.3.2.106)\n",
      "Requirement already satisfied: nvidia-cusolver-cu12==11.4.5.107 in /home/mick/bin/anaconda/envs/scratch/lib/python3.12/site-packages (from torch>=2.2.0->ctgan>=0.10.2->sdv) (11.4.5.107)\n",
      "Requirement already satisfied: nvidia-cusparse-cu12==12.1.0.106 in /home/mick/bin/anaconda/envs/scratch/lib/python3.12/site-packages (from torch>=2.2.0->ctgan>=0.10.2->sdv) (12.1.0.106)\n",
      "Requirement already satisfied: nvidia-nccl-cu12==2.20.5 in /home/mick/bin/anaconda/envs/scratch/lib/python3.12/site-packages (from torch>=2.2.0->ctgan>=0.10.2->sdv) (2.20.5)\n",
      "Requirement already satisfied: nvidia-nvtx-cu12==12.1.105 in /home/mick/bin/anaconda/envs/scratch/lib/python3.12/site-packages (from torch>=2.2.0->ctgan>=0.10.2->sdv) (12.1.105)\n",
      "Requirement already satisfied: nvidia-nvjitlink-cu12 in /home/mick/bin/anaconda/envs/scratch/lib/python3.12/site-packages (from nvidia-cusolver-cu12==11.4.5.107->torch>=2.2.0->ctgan>=0.10.2->sdv) (12.5.40)\n",
      "Requirement already satisfied: MarkupSafe>=2.0 in /home/mick/bin/anaconda/envs/scratch/lib/python3.12/site-packages (from jinja2->torch>=2.2.0->ctgan>=0.10.2->sdv) (2.1.5)\n",
      "Requirement already satisfied: mpmath<1.4.0,>=1.1.0 in /home/mick/bin/anaconda/envs/scratch/lib/python3.12/site-packages (from sympy->torch>=2.2.0->ctgan>=0.10.2->sdv) (1.3.0)\n",
      "Requirement already satisfied: imblearn in /home/mick/bin/anaconda/envs/scratch/lib/python3.12/site-packages (0.0)\n",
      "Requirement already satisfied: imbalanced-learn in /home/mick/bin/anaconda/envs/scratch/lib/python3.12/site-packages (from imblearn) (0.13.0)\n",
      "Requirement already satisfied: numpy<3,>=1.24.3 in /home/mick/bin/anaconda/envs/scratch/lib/python3.12/site-packages (from imbalanced-learn->imblearn) (1.26.4)\n",
      "Requirement already satisfied: scipy<2,>=1.10.1 in /home/mick/bin/anaconda/envs/scratch/lib/python3.12/site-packages (from imbalanced-learn->imblearn) (1.14.1)\n",
      "Requirement already satisfied: scikit-learn<2,>=1.3.2 in /home/mick/bin/anaconda/envs/scratch/lib/python3.12/site-packages (from imbalanced-learn->imblearn) (1.5.1)\n",
      "Requirement already satisfied: sklearn-compat<1,>=0.1 in /home/mick/bin/anaconda/envs/scratch/lib/python3.12/site-packages (from imbalanced-learn->imblearn) (0.1.3)\n",
      "Requirement already satisfied: joblib<2,>=1.1.1 in /home/mick/bin/anaconda/envs/scratch/lib/python3.12/site-packages (from imbalanced-learn->imblearn) (1.4.2)\n",
      "Requirement already satisfied: threadpoolctl<4,>=2.0.0 in /home/mick/bin/anaconda/envs/scratch/lib/python3.12/site-packages (from imbalanced-learn->imblearn) (3.5.0)\n"
     ]
    }
   ],
   "source": [
    "!pip install sdv\n",
    "from sdv.datasets.demo import download_demo, get_available_demos\n",
    "from sdv.sampling import Condition\n",
    "from sdv.single_table import GaussianCopulaSynthesizer\n",
    "import pandas as pd\n",
    "from pandas.core.frame import DataFrame\n",
    "import numpy as np\n",
    "from sklearn.metrics import confusion_matrix\n",
    "from sklearn.preprocessing import LabelEncoder\n",
    "\n",
    "!pip install imblearn\n",
    "from imblearn.ensemble import BalancedRandomForestClassifier\n"
   ]
  },
  {
   "cell_type": "markdown",
   "metadata": {},
   "source": [
    "## TODO\n",
    "- Generate synthetic datasets\n",
    "- Test algorithms for imbalanced data\n",
    "- Evaluate performance\n",
    "- Report Findings"
   ]
  },
  {
   "cell_type": "markdown",
   "metadata": {},
   "source": [
    "# Generate Synthetic datasets\n",
    "- Create datasets with varying class imbalance ratios (5, 10, 20, 50, 100) based on the size of the majority class relative to the minority class"
   ]
  },
  {
   "cell_type": "code",
   "execution_count": 20,
   "metadata": {},
   "outputs": [],
   "source": [
    "class SyntheticDatasetGenerator():\n",
    "\n",
    "    def __init__(self, sample_dataset_name, target_column_name, majority_class_value, minority_class_value) -> None:\n",
    "        self.majority_class_value = majority_class_value\n",
    "        self.minority_class_value = minority_class_value\n",
    "        self.target_column_name = target_column_name\n",
    "        sample_data, sample_metadata = download_demo(modality='single_table', dataset_name=sample_dataset_name)\n",
    "        self.synthesiser = GaussianCopulaSynthesizer(sample_metadata)\n",
    "        self.synthesiser.fit(data=sample_data)\n",
    "        \n",
    "\n",
    "    def generate_dataset(self, row_count, imbalance_ratio):\n",
    "        minority_class_row_count = int(row_count / (imbalance_ratio + 1))\n",
    "        majority_class_row_count = imbalance_ratio * minority_class_row_count\n",
    "        minority_condition  = Condition(num_rows = minority_class_row_count, column_values={self.target_column_name: self.minority_class_value})\n",
    "        majority_condition  = Condition(num_rows = majority_class_row_count, column_values={self.target_column_name: self.majority_class_value})\n",
    "        return self.synthesiser.sample_from_conditions(conditions=[minority_condition, majority_condition])"
   ]
  },
  {
   "cell_type": "markdown",
   "metadata": {},
   "source": [
    "## Classifiers"
   ]
  },
  {
   "cell_type": "code",
   "execution_count": 21,
   "metadata": {},
   "outputs": [],
   "source": [
    "#define constants\n",
    "TARGET_COLUMN_NAME = \"label\"\n",
    "\n",
    "\n",
    "class BaseClassifier:\n",
    "\n",
    "    def __init__(self, algorithm_name, target_column_name) -> None:\n",
    "        self.algorithm_name = algorithm_name\n",
    "        self.target_column_name = target_column_name\n",
    "\n",
    "    \n",
    "    def fit(self, train_data: pd.DataFrame):\n",
    "        pass\n",
    "\n",
    "    def predict(self, test_data: pd.DataFrame):\n",
    "        pass\n",
    "\n",
    "\n",
    "    def calculate_kappa(self, y_true, y_pred):\n",
    "        \"\"\"\n",
    "        Calculate the Kappa metric for evaluating classifier performance in imbalanced settings.\n",
    "        \n",
    "        The metric computes the inter-rater agreement between predictions and true labels,\n",
    "        correcting for agreements that occur by chance. Values range from -100 (total disagreement)\n",
    "        through 0 (random classification) to 100 (perfect agreement).\n",
    "        \n",
    "        Parameters:\n",
    "        -----------\n",
    "        y_true : array-like\n",
    "            Ground truth (correct) labels\n",
    "        y_pred : array-like\n",
    "            Predicted labels, as returned by a classifier\n",
    "            \n",
    "        Returns:\n",
    "        --------\n",
    "        float\n",
    "            Kappa score multiplied by 100 (ranging from -100 to 100)\n",
    "            \n",
    "        Notes:\n",
    "        ------\n",
    "        The implementation follows the formula:\n",
    "        Kappa = (n∑xii - ∑xi.x.i)/(n² - ∑xi.x.i) * 100\n",
    "        where:\n",
    "        - xii is the count of cases in the main diagonal of confusion matrix\n",
    "        - n is the number of examples\n",
    "        - xi. and x.i are the row and column total counts respectively\n",
    "        \"\"\"\n",
    "        # Ensure inputs are numpy arrays\n",
    "        y_true = np.asarray(y_true)\n",
    "        y_pred = np.asarray(y_pred)\n",
    "        \n",
    "        # Compute confusion matrix\n",
    "        conf_matrix = confusion_matrix(y_true, y_pred)\n",
    "        \n",
    "        # Get total number of examples\n",
    "        n = len(y_true)\n",
    "        \n",
    "        # Calculate sum of main diagonal (∑xii)\n",
    "        sum_diag = np.sum(np.diag(conf_matrix))\n",
    "        \n",
    "        # Calculate row and column sums\n",
    "        row_sums = np.sum(conf_matrix, axis=1)  # xi.\n",
    "        col_sums = np.sum(conf_matrix, axis=0)  # x.i\n",
    "        \n",
    "        # Calculate ∑xi.x.i\n",
    "        sum_product = np.sum(row_sums * col_sums)\n",
    "        \n",
    "        # Calculate Kappa according to the formula\n",
    "        numerator = n * sum_diag - sum_product\n",
    "        denominator = n * n - sum_product\n",
    "        \n",
    "        # Handle division by zero case\n",
    "        if denominator == 0:\n",
    "            return 0.0\n",
    "            \n",
    "        kappa = (numerator / denominator) * 100\n",
    "        \n",
    "        return kappa\n",
    "    \n",
    "    def evaluate(self, dataset: pd.DataFrame):\n",
    "        # split dataset\n",
    "        \n",
    "        self.fit(train_data)\n",
    "        predictions = self.predict(test_data)\n",
    "        kappa = self.calculate_kappa(test_data[self.target_column_name], predictions)\n",
    "        print(f\"Kappa is {kappa}\")\n",
    "\n"
   ]
  },
  {
   "cell_type": "code",
   "execution_count": 22,
   "metadata": {},
   "outputs": [],
   "source": [
    "class BalancedRandomForestClassifierWrapper(BaseClassifier):\n",
    "\n",
    "    def __init__(self, algorithm_name, target_column_name) -> None:\n",
    "        super().__init__(algorithm_name, target_column_name)\n",
    "        self.clf = BalancedRandomForestClassifier(n_estimators=100, random_state=42)\n",
    "\n",
    "    ...\n",
    "    def fit(self, train_data: pd.DataFrame):\n",
    "        train_df = train_data\n",
    "        # We need to encode categorical features\n",
    "        self.encoders = {}\n",
    "        for col in train_df.select_dtypes(include=['object']).columns:\n",
    "            le = LabelEncoder()\n",
    "            train_df[col] = le.fit_transform(train_df[col])\n",
    "            train_df[col] = le.transform(train_df[col])\n",
    "            self.encoders[col] = le\n",
    "        x_train = train_df.drop(columns=[self.target_column_name])\n",
    "        y_train = train_df[self.target_column_name]\n",
    "        self.clf.fit(x_train, y_train)\n",
    "\n",
    "    def predict(self, test_data: pd.DataFrame):\n",
    "        test_df = test_data\n",
    "        for col, encoder in self.encoders.items():\n",
    "            print(f\"encoding: {col}\")\n",
    "            test_df[col] = encoder.transform(test_df[col])\n",
    "        return self.clf.predict(test_df.drop(columns=[self.target_column_name]))"
   ]
  },
  {
   "cell_type": "markdown",
   "metadata": {},
   "source": [
    "## Evaluation"
   ]
  },
  {
   "cell_type": "code",
   "execution_count": 23,
   "metadata": {},
   "outputs": [
    {
     "name": "stderr",
     "output_type": "stream",
     "text": [
      "Sampling conditions: 100%|██████████| 9996/9996 [00:02<00:00, 3650.70it/s]\n",
      "Sampling conditions: 100%|██████████| 1998/1998 [00:00<00:00, 2480.60it/s]\n",
      "Sampling conditions: 100%|██████████| 9999/9999 [00:02<00:00, 3725.14it/s]\n",
      "Sampling conditions: 100%|██████████| 1991/1991 [00:00<00:00, 2553.72it/s]\n",
      "Sampling conditions: 100%|██████████| 9996/9996 [00:02<00:00, 3728.48it/s]\n",
      "Sampling conditions: 100%|██████████| 1995/1995 [00:00<00:00, 2530.82it/s]\n",
      "Sampling conditions: 100%|██████████| 9996/9996 [00:02<00:00, 3758.14it/s]\n",
      "Sampling conditions: 100%|██████████| 1989/1989 [00:00<00:00, 2613.90it/s]\n",
      "Sampling conditions: 100%|██████████| 9999/9999 [00:02<00:00, 3750.24it/s]\n",
      "Sampling conditions: 100%|██████████| 1919/1919 [00:00<00:00, 2476.27it/s]\n"
     ]
    }
   ],
   "source": [
    "# Generate all train and test datasets ratios 5, 10, 20, 50, 100\n",
    "\n",
    "synth_generator = SyntheticDatasetGenerator(\"adult\", \"label\", \"<=50K\", \">50K\")\n",
    "\n",
    "TOTAL_ROWS = 10000\n",
    "\n",
    "\n",
    "datasets = {}\n",
    "for ratio in [5, 10, 20, 50, 100]:\n",
    "    datasets[ratio] = synth_generator.generate_dataset(TOTAL_ROWS, ratio)\n",
    "\n",
    "\n",
    "    \n"
   ]
  },
  {
   "cell_type": "code",
   "execution_count": 24,
   "metadata": {},
   "outputs": [
    {
     "name": "stdout",
     "output_type": "stream",
     "text": [
      "Running ratio 5\n"
     ]
    },
    {
     "ename": "ValueError",
     "evalue": "y contains previously unseen labels: 4",
     "output_type": "error",
     "traceback": [
      "\u001b[0;31m---------------------------------------------------------------------------\u001b[0m",
      "\u001b[0;31mKeyError\u001b[0m                                  Traceback (most recent call last)",
      "File \u001b[0;32m~/bin/anaconda/envs/scratch/lib/python3.12/site-packages/sklearn/utils/_encode.py:225\u001b[0m, in \u001b[0;36m_encode\u001b[0;34m(values, uniques, check_unknown)\u001b[0m\n\u001b[1;32m    224\u001b[0m \u001b[38;5;28;01mtry\u001b[39;00m:\n\u001b[0;32m--> 225\u001b[0m     \u001b[38;5;28;01mreturn\u001b[39;00m \u001b[43m_map_to_integer\u001b[49m\u001b[43m(\u001b[49m\u001b[43mvalues\u001b[49m\u001b[43m,\u001b[49m\u001b[43m \u001b[49m\u001b[43muniques\u001b[49m\u001b[43m)\u001b[49m\n\u001b[1;32m    226\u001b[0m \u001b[38;5;28;01mexcept\u001b[39;00m \u001b[38;5;167;01mKeyError\u001b[39;00m \u001b[38;5;28;01mas\u001b[39;00m e:\n",
      "File \u001b[0;32m~/bin/anaconda/envs/scratch/lib/python3.12/site-packages/sklearn/utils/_encode.py:165\u001b[0m, in \u001b[0;36m_map_to_integer\u001b[0;34m(values, uniques)\u001b[0m\n\u001b[1;32m    164\u001b[0m table \u001b[38;5;241m=\u001b[39m _nandict({val: i \u001b[38;5;28;01mfor\u001b[39;00m i, val \u001b[38;5;129;01min\u001b[39;00m \u001b[38;5;28menumerate\u001b[39m(uniques)})\n\u001b[0;32m--> 165\u001b[0m \u001b[38;5;28;01mreturn\u001b[39;00m np\u001b[38;5;241m.\u001b[39marray([\u001b[43mtable\u001b[49m\u001b[43m[\u001b[49m\u001b[43mv\u001b[49m\u001b[43m]\u001b[49m \u001b[38;5;28;01mfor\u001b[39;00m v \u001b[38;5;129;01min\u001b[39;00m values])\n",
      "File \u001b[0;32m~/bin/anaconda/envs/scratch/lib/python3.12/site-packages/sklearn/utils/_encode.py:159\u001b[0m, in \u001b[0;36m_nandict.__missing__\u001b[0;34m(self, key)\u001b[0m\n\u001b[1;32m    158\u001b[0m     \u001b[38;5;28;01mreturn\u001b[39;00m \u001b[38;5;28mself\u001b[39m\u001b[38;5;241m.\u001b[39mnan_value\n\u001b[0;32m--> 159\u001b[0m \u001b[38;5;28;01mraise\u001b[39;00m \u001b[38;5;167;01mKeyError\u001b[39;00m(key)\n",
      "\u001b[0;31mKeyError\u001b[0m: 4",
      "\nDuring handling of the above exception, another exception occurred:\n",
      "\u001b[0;31mValueError\u001b[0m                                Traceback (most recent call last)",
      "Cell \u001b[0;32mIn[24], line 15\u001b[0m\n\u001b[1;32m     13\u001b[0m train_dataset \u001b[38;5;241m=\u001b[39m entry[TRAIN_DATASET]\n\u001b[1;32m     14\u001b[0m test_dataset \u001b[38;5;241m=\u001b[39m entry[TEST_DATASET]\n\u001b[0;32m---> 15\u001b[0m \u001b[43mclassifier\u001b[49m\u001b[38;5;241;43m.\u001b[39;49m\u001b[43mevaluate\u001b[49m\u001b[43m(\u001b[49m\u001b[43mtrain_data\u001b[49m\u001b[38;5;241;43m=\u001b[39;49m\u001b[43mtrain_dataset\u001b[49m\u001b[43m,\u001b[49m\u001b[43m \u001b[49m\u001b[43mtest_data\u001b[49m\u001b[38;5;241;43m=\u001b[39;49m\u001b[43mtest_dataset\u001b[49m\u001b[43m)\u001b[49m\n",
      "Cell \u001b[0;32mIn[21], line 82\u001b[0m, in \u001b[0;36mBaseClassifier.evaluate\u001b[0;34m(self, train_data, test_data)\u001b[0m\n\u001b[1;32m     81\u001b[0m \u001b[38;5;28;01mdef\u001b[39;00m \u001b[38;5;21mevaluate\u001b[39m(\u001b[38;5;28mself\u001b[39m, train_data: pd\u001b[38;5;241m.\u001b[39mDataFrame, test_data: pd\u001b[38;5;241m.\u001b[39mDataFrame):\n\u001b[0;32m---> 82\u001b[0m     \u001b[38;5;28;43mself\u001b[39;49m\u001b[38;5;241;43m.\u001b[39;49m\u001b[43mfit\u001b[49m\u001b[43m(\u001b[49m\u001b[43mtrain_data\u001b[49m\u001b[43m)\u001b[49m\n\u001b[1;32m     83\u001b[0m     predictions \u001b[38;5;241m=\u001b[39m \u001b[38;5;28mself\u001b[39m\u001b[38;5;241m.\u001b[39mpredict(test_data)\n\u001b[1;32m     84\u001b[0m     kappa \u001b[38;5;241m=\u001b[39m \u001b[38;5;28mself\u001b[39m\u001b[38;5;241m.\u001b[39mcalculate_kappa(test_data[\u001b[38;5;28mself\u001b[39m\u001b[38;5;241m.\u001b[39mtarget_column_name], predictions)\n",
      "Cell \u001b[0;32mIn[22], line 15\u001b[0m, in \u001b[0;36mBalancedRandomForestClassifierWrapper.fit\u001b[0;34m(self, train_data)\u001b[0m\n\u001b[1;32m     13\u001b[0m     le \u001b[38;5;241m=\u001b[39m LabelEncoder()\n\u001b[1;32m     14\u001b[0m     train_df[col] \u001b[38;5;241m=\u001b[39m le\u001b[38;5;241m.\u001b[39mfit_transform(train_df[col])\n\u001b[0;32m---> 15\u001b[0m     train_df[col] \u001b[38;5;241m=\u001b[39m \u001b[43mle\u001b[49m\u001b[38;5;241;43m.\u001b[39;49m\u001b[43mtransform\u001b[49m\u001b[43m(\u001b[49m\u001b[43mtrain_df\u001b[49m\u001b[43m[\u001b[49m\u001b[43mcol\u001b[49m\u001b[43m]\u001b[49m\u001b[43m)\u001b[49m\n\u001b[1;32m     16\u001b[0m     \u001b[38;5;28mself\u001b[39m\u001b[38;5;241m.\u001b[39mencoders[col] \u001b[38;5;241m=\u001b[39m le\n\u001b[1;32m     17\u001b[0m x_train \u001b[38;5;241m=\u001b[39m train_df\u001b[38;5;241m.\u001b[39mdrop(columns\u001b[38;5;241m=\u001b[39m[\u001b[38;5;28mself\u001b[39m\u001b[38;5;241m.\u001b[39mtarget_column_name])\n",
      "File \u001b[0;32m~/bin/anaconda/envs/scratch/lib/python3.12/site-packages/sklearn/preprocessing/_label.py:137\u001b[0m, in \u001b[0;36mLabelEncoder.transform\u001b[0;34m(self, y)\u001b[0m\n\u001b[1;32m    134\u001b[0m \u001b[38;5;28;01mif\u001b[39;00m _num_samples(y) \u001b[38;5;241m==\u001b[39m \u001b[38;5;241m0\u001b[39m:\n\u001b[1;32m    135\u001b[0m     \u001b[38;5;28;01mreturn\u001b[39;00m np\u001b[38;5;241m.\u001b[39marray([])\n\u001b[0;32m--> 137\u001b[0m \u001b[38;5;28;01mreturn\u001b[39;00m \u001b[43m_encode\u001b[49m\u001b[43m(\u001b[49m\u001b[43my\u001b[49m\u001b[43m,\u001b[49m\u001b[43m \u001b[49m\u001b[43muniques\u001b[49m\u001b[38;5;241;43m=\u001b[39;49m\u001b[38;5;28;43mself\u001b[39;49m\u001b[38;5;241;43m.\u001b[39;49m\u001b[43mclasses_\u001b[49m\u001b[43m)\u001b[49m\n",
      "File \u001b[0;32m~/bin/anaconda/envs/scratch/lib/python3.12/site-packages/sklearn/utils/_encode.py:227\u001b[0m, in \u001b[0;36m_encode\u001b[0;34m(values, uniques, check_unknown)\u001b[0m\n\u001b[1;32m    225\u001b[0m         \u001b[38;5;28;01mreturn\u001b[39;00m _map_to_integer(values, uniques)\n\u001b[1;32m    226\u001b[0m     \u001b[38;5;28;01mexcept\u001b[39;00m \u001b[38;5;167;01mKeyError\u001b[39;00m \u001b[38;5;28;01mas\u001b[39;00m e:\n\u001b[0;32m--> 227\u001b[0m         \u001b[38;5;28;01mraise\u001b[39;00m \u001b[38;5;167;01mValueError\u001b[39;00m(\u001b[38;5;124mf\u001b[39m\u001b[38;5;124m\"\u001b[39m\u001b[38;5;124my contains previously unseen labels: \u001b[39m\u001b[38;5;132;01m{\u001b[39;00m\u001b[38;5;28mstr\u001b[39m(e)\u001b[38;5;132;01m}\u001b[39;00m\u001b[38;5;124m\"\u001b[39m)\n\u001b[1;32m    228\u001b[0m \u001b[38;5;28;01melse\u001b[39;00m:\n\u001b[1;32m    229\u001b[0m     \u001b[38;5;28;01mif\u001b[39;00m check_unknown:\n",
      "\u001b[0;31mValueError\u001b[0m: y contains previously unseen labels: 4"
     ]
    }
   ],
   "source": [
    "# Run Classifiers\n",
    "\n",
    "\n",
    "\n",
    "\n",
    "classifiers = [\n",
    "    BalancedRandomForestClassifierWrapper(\"BRFC\", TARGET_COLUMN_NAME)\n",
    "]\n",
    "\n",
    "for classifier in classifiers:\n",
    "    for ratio, dataset in datasets.items():\n",
    "        print (f\"Running ratio {ratio}\")\n",
    "        classifier.evaluate(dataset)"
   ]
  }
 ],
 "metadata": {
  "kernelspec": {
   "display_name": "scratch",
   "language": "python",
   "name": "python3"
  },
  "language_info": {
   "codemirror_mode": {
    "name": "ipython",
    "version": 3
   },
   "file_extension": ".py",
   "mimetype": "text/x-python",
   "name": "python",
   "nbconvert_exporter": "python",
   "pygments_lexer": "ipython3",
   "version": "3.12.3"
  }
 },
 "nbformat": 4,
 "nbformat_minor": 2
}
