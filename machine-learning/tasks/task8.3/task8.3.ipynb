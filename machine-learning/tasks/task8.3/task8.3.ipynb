{
 "cells": [
  {
   "cell_type": "code",
   "execution_count": 12,
   "metadata": {},
   "outputs": [],
   "source": [
    "import pandas as pd"
   ]
  },
  {
   "cell_type": "markdown",
   "metadata": {
    "vscode": {
     "languageId": "plaintext"
    }
   },
   "source": [
    "## Data Loading\n",
    "\n",
    "Load the dataset, preform sanity checks"
   ]
  },
  {
   "cell_type": "code",
   "execution_count": null,
   "metadata": {},
   "outputs": [],
   "source": [
    "df = pd.read_csv('Dataset4.csv')\n",
    "df.head()\n"
   ]
  },
  {
   "cell_type": "code",
   "execution_count": null,
   "metadata": {},
   "outputs": [],
   "source": [
    "df.info()\n"
   ]
  },
  {
   "cell_type": "code",
   "execution_count": null,
   "metadata": {},
   "outputs": [],
   "source": [
    "# Count the number of target classes\n",
    "print(\"Number of target classes:\", len(df['target'].unique()))\n",
    "\n",
    "# Get columns with string (object) dtype\n",
    "string_columns = df.select_dtypes(include=['object']).columns\n",
    "\n",
    "# Print value counts for each string column\n",
    "print(\"Value counts for string columns:\")\n",
    "for col in string_columns:\n",
    "    print(f\"\\n{col}:\")\n",
    "    print(df[col].value_counts())\n",
    "\n"
   ]
  },
  {
   "cell_type": "code",
   "execution_count": null,
   "metadata": {},
   "outputs": [],
   "source": [
    "# Check unique values in target column\n",
    "print(\"Unique values in target column:\")\n",
    "print(df['target'].unique())\n",
    "print(\"\\nValue counts in target column:\")\n",
    "print(df['target'].value_counts())\n",
    "\n",
    "# Basic statistics of numeric columns\n",
    "print(\"\\nBasic statistics of numeric columns:\")\n",
    "print(df.describe())\n",
    "\n",
    "# Check for missing values\n",
    "print(\"\\nMissing values in dataset:\")\n",
    "print(df.isnull().sum())\n",
    "\n",
    "# Plot distribution of target variable\n",
    "import matplotlib.pyplot as plt\n",
    "plt.figure(figsize=(10,6))\n",
    "df['target'].value_counts().plot(kind='bar')\n",
    "plt.title('Distribution of Target Classes')\n",
    "plt.xlabel('Class')\n",
    "plt.ylabel('Count')\n",
    "plt.xticks(rotation=45)\n",
    "plt.show()\n",
    "\n",
    "# Correlation analysis with numeric columns\n",
    "numeric_cols = df.select_dtypes(include=['float64', 'int64']).columns\n",
    "correlation = df[numeric_cols].corr()\n",
    "\n",
    "plt.figure(figsize=(12,8))\n",
    "plt.imshow(correlation, cmap='coolwarm', aspect='auto')\n",
    "plt.colorbar()\n",
    "plt.xticks(range(len(correlation.columns)), correlation.columns, rotation=90)\n",
    "plt.yticks(range(len(correlation.columns)), correlation.columns)\n",
    "plt.title('Correlation Matrix of Numeric Features')\n",
    "plt.tight_layout()\n",
    "plt.show()\n"
   ]
  },
  {
   "cell_type": "markdown",
   "metadata": {},
   "source": [
    "### Data Preprocessing"
   ]
  },
  {
   "cell_type": "markdown",
   "metadata": {},
   "source": [
    "*One Hot Encoding* of string columns (except the target)"
   ]
  },
  {
   "cell_type": "code",
   "execution_count": null,
   "metadata": {},
   "outputs": [],
   "source": [
    "# Get string columns except target\n",
    "string_cols = df.select_dtypes(include=['object']).columns\n",
    "string_cols = [col for col in string_cols if col != 'target']\n",
    "\n",
    "# Perform one-hot encoding\n",
    "df_encoded = pd.get_dummies(df, columns=string_cols)\n",
    "\n",
    "print(\"\\nShape before one-hot encoding:\", df.shape)\n",
    "print(\"Shape after one-hot encoding:\", df_encoded.shape)\n",
    "print(\"\\nNew columns added:\", list(set(df_encoded.columns) - set(df.columns)))\n",
    "\n",
    "# Replace original dataframe with encoded version\n",
    "df = df_encoded\n"
   ]
  },
  {
   "cell_type": "markdown",
   "metadata": {},
   "source": [
    "*Encode* the target variable to be a scalar"
   ]
  },
  {
   "cell_type": "code",
   "execution_count": null,
   "metadata": {},
   "outputs": [],
   "source": [
    "# Use LabelEncoder to convert target labels to numbers\n",
    "from sklearn.preprocessing import LabelEncoder\n",
    "le = LabelEncoder()\n",
    "df['target'] = le.fit_transform(df['target'])\n",
    "\n",
    "print(\"\\nUnique target values after encoding:\")\n",
    "for i, label in enumerate(le.classes_):\n",
    "    print(f\"{label}: {i}\")\n"
   ]
  },
  {
   "cell_type": "code",
   "execution_count": null,
   "metadata": {},
   "outputs": [],
   "source": [
    "# Calculate correlations with target\n",
    "target_correlations = df.corr()['target'].sort_values(ascending=False)\n",
    "\n",
    "# Display top 10 most correlated features\n",
    "print(\"\\nTop 10 features most correlated with target:\")\n",
    "print(target_correlations[1:11])  # Exclude target's correlation with itself\n",
    "\n",
    "# Visualize top correlations\n",
    "plt.figure(figsize=(10, 6))\n",
    "plt.bar(range(10), target_correlations[1:11])\n",
    "plt.xticks(range(10), target_correlations[1:11].index, rotation=45, ha='right')\n",
    "plt.title('Top 10 Features Most Correlated with Target')\n",
    "plt.xlabel('Features')\n",
    "plt.ylabel('Correlation Coefficient')\n",
    "plt.tight_layout()\n",
    "plt.show()\n"
   ]
  }
 ],
 "metadata": {
  "kernelspec": {
   "display_name": "scratch",
   "language": "python",
   "name": "python3"
  },
  "language_info": {
   "codemirror_mode": {
    "name": "ipython",
    "version": 3
   },
   "file_extension": ".py",
   "mimetype": "text/x-python",
   "name": "python",
   "nbconvert_exporter": "python",
   "pygments_lexer": "ipython3",
   "version": "3.12.5"
  }
 },
 "nbformat": 4,
 "nbformat_minor": 2
}
