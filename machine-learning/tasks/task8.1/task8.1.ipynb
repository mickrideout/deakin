{
 "cells": [
  {
   "cell_type": "code",
   "execution_count": 1,
   "metadata": {},
   "outputs": [],
   "source": [
    "import pandas as pd"
   ]
  },
  {
   "cell_type": "markdown",
   "metadata": {},
   "source": [
    "## Item 1 - Loading\n",
    "\n",
    "Load the dataset and show the dimensions it has"
   ]
  },
  {
   "cell_type": "code",
   "execution_count": null,
   "metadata": {},
   "outputs": [],
   "source": [
    "\n",
    "\n",
    "# Load Dataset3.csv into a dataframe\n",
    "df = pd.read_csv('Dataset3.csv', delimiter=';')\n",
    "\n",
    "# Print dimensions\n",
    "print(\"Dataset dimensions:\", df.shape)\n",
    "\n",
    "df.head()\n"
   ]
  },
  {
   "cell_type": "markdown",
   "metadata": {},
   "source": [
    "### Item 1 - Loading Commentary\n",
    "\n",
    "The dataset has 4424 rows and 37 columns"
   ]
  },
  {
   "cell_type": "markdown",
   "metadata": {},
   "source": [
    "## Item 1 - Principal Component Analysis\n",
    "\n",
    "Create a new dataframe that transforms and reduces the feature set of the original dataframe using PCA. The PCA dataset will contain only 3 feature components (plus the Target column). Visualise the new PCA dataset"
   ]
  },
  {
   "cell_type": "code",
   "execution_count": null,
   "metadata": {},
   "outputs": [],
   "source": [
    "from sklearn.preprocessing import StandardScaler\n",
    "from sklearn.decomposition import PCA\n",
    "\n",
    "# Create copy of dataframe without Target column for PCA\n",
    "X = df.drop('Target', axis=1)\n",
    "\n",
    "# Scale the features\n",
    "scaler = StandardScaler()\n",
    "X_scaled = scaler.fit_transform(X)\n",
    "\n",
    "# Apply PCA with 3 components\n",
    "pca = PCA(n_components=3)\n",
    "X_pca = pca.fit_transform(X_scaled)\n",
    "\n",
    "# Create new dataframe with PCA results\n",
    "pca_df = pd.DataFrame(data=X_pca, columns=['PC1', 'PC2', 'PC3'])\n",
    "\n",
    "# Add Target column back\n",
    "pca_df['Target'] = df['Target'].values\n",
    "\n",
    "# Display first few rows\n",
    "print(\"\\nPCA Dataset:\")\n",
    "print(pca_df.head())\n"
   ]
  },
  {
   "cell_type": "code",
   "execution_count": null,
   "metadata": {},
   "outputs": [],
   "source": [
    "import matplotlib.pyplot as plt\n",
    "from mpl_toolkits.mplot3d import Axes3D\n",
    "\n",
    "# Create 3D scatter plot\n",
    "fig = plt.figure(figsize=(10, 8))\n",
    "ax = fig.add_subplot(111, projection='3d')\n",
    "\n",
    "# Plot points colored by Target\n",
    "colors = {'Dropout': 'red', 'Graduate': 'blue', 'Enrolled': 'orange'}\n",
    "for target in pca_df['Target'].unique():\n",
    "    mask = pca_df['Target'] == target\n",
    "    ax.scatter(pca_df.loc[mask, 'PC1'], \n",
    "              pca_df.loc[mask, 'PC2'],\n",
    "              pca_df.loc[mask, 'PC3'],\n",
    "              c=colors[target],\n",
    "              label=target,\n",
    "              alpha=0.6)\n",
    "\n",
    "# Set labels and title\n",
    "ax.set_xlabel('First Principal Component')\n",
    "ax.set_ylabel('Second Principal Component') \n",
    "ax.set_zlabel('Third Principal Component')\n",
    "ax.set_title('3D PCA Visualization')\n",
    "\n",
    "# Add legend\n",
    "plt.legend()\n",
    "\n",
    "# Show plot\n",
    "plt.show()\n",
    "\n"
   ]
  },
  {
   "cell_type": "markdown",
   "metadata": {},
   "source": [
    "### Item 1 - PCA Commentary\n",
    "\n",
    "From the 3d visualisation it can be seen that there is an imbalance in the target classes, with Graduate being the most populus followed by Dropout then Enrolled. The Graduate group has a much better defined cluster in the 3 components compared to the other two Targets as well."
   ]
  },
  {
   "cell_type": "code",
   "execution_count": null,
   "metadata": {},
   "outputs": [],
   "source": [
    "# Print value counts of Target column\n",
    "print(\"\\nTarget Distribution:\")\n",
    "print(pca_df['Target'].value_counts())\n"
   ]
  },
  {
   "cell_type": "markdown",
   "metadata": {},
   "source": [
    "A value count of the Target column confirms there is indeed a class imbalance."
   ]
  },
  {
   "cell_type": "markdown",
   "metadata": {},
   "source": [
    "## Item 2 - Train / Test Splitting\n",
    "\n",
    "Here we need to split the dataset into train / test splits. Care needs to be taken as the Target is imbalanced. We must produce 3 train / test splits as there are 3 classes in the Target output variable."
   ]
  },
  {
   "cell_type": "code",
   "execution_count": null,
   "metadata": {},
   "outputs": [],
   "source": []
  }
 ],
 "metadata": {
  "kernelspec": {
   "display_name": "scratch",
   "language": "python",
   "name": "python3"
  },
  "language_info": {
   "codemirror_mode": {
    "name": "ipython",
    "version": 3
   },
   "file_extension": ".py",
   "mimetype": "text/x-python",
   "name": "python",
   "nbconvert_exporter": "python",
   "pygments_lexer": "ipython3",
   "version": "3.12.5"
  }
 },
 "nbformat": 4,
 "nbformat_minor": 2
}
